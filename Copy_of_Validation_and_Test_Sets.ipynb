{
  "nbformat": 4,
  "nbformat_minor": 0,
  "metadata": {
    "colab": {
      "provenance": [],
      "collapsed_sections": [],
      "include_colab_link": true
    },
    "kernelspec": {
      "name": "python3",
      "display_name": "Python 3"
    },
    "gpuClass": "standard"
  },
  "cells": [
    {
      "cell_type": "markdown",
      "metadata": {
        "id": "view-in-github",
        "colab_type": "text"
      },
      "source": [
        "<a href=\"https://colab.research.google.com/github/Teacher-Heiko/Validation-Sets-and-Test-Sets/blob/main/Copy_of_Validation_and_Test_Sets.ipynb\" target=\"_parent\"><img src=\"https://colab.research.google.com/assets/colab-badge.svg\" alt=\"Open In Colab\"/></a>"
      ]
    },
    {
      "cell_type": "code",
      "metadata": {
        "id": "hMqWDc_m6rUC",
        "cellView": "form"
      },
      "source": [
        "#@title Copyright 2020 Google LLC. Double-click here for license information.\n",
        "# Licensed under the Apache License, Version 2.0 (the \"License\");\n",
        "# you may not use this file except in compliance with the License.\n",
        "# You may obtain a copy of the License at\n",
        "#\n",
        "# https://www.apache.org/licenses/LICENSE-2.0\n",
        "#\n",
        "# Unless required by applicable law or agreed to in writing, software\n",
        "# distributed under the License is distributed on an \"AS IS\" BASIS,\n",
        "# WITHOUT WARRANTIES OR CONDITIONS OF ANY KIND, either express or implied.\n",
        "# See the License for the specific language governing permissions and\n",
        "# limitations under the License."
      ],
      "execution_count": 1,
      "outputs": []
    },
    {
      "cell_type": "markdown",
      "metadata": {
        "id": "T4r2z30vJSbA"
      },
      "source": [
        "# Colabs\n",
        "\n",
        "Machine Learning Crash Course uses Colaboratories (Colabs) for all programming exercises. Colab is Google's implementation of [Jupyter Notebook](https://jupyter.org/). For more information about Colabs and how to use them, go to [Welcome to Colaboratory](https://research.google.com/colaboratory)."
      ]
    },
    {
      "cell_type": "markdown",
      "metadata": {
        "id": "4f3CKqFUqL2-"
      },
      "source": [
        "# Validation Sets and Test Sets\n",
        "\n",
        "The previous Colab exercises evaluated the trained model against the training set, which does not provide a strong signal about the quality of your model. In this Colab, you'll experiment with validation sets and test sets.\n",
        "\n",
        "\n",
        "\n",
        "\n"
      ]
    },
    {
      "cell_type": "markdown",
      "metadata": {
        "id": "3spZH_kNkWWX"
      },
      "source": [
        "## Learning objectives\n",
        "\n",
        "After doing this Colab, you'll know how to do the following:\n",
        "\n",
        "  * Split a [training set](https://developers.google.com/machine-learning/glossary/#training_set) into a smaller training set and a [validation set](https://developers.google.com/machine-learning/glossary/#validation_set).\n",
        "  * Analyze deltas between training set and validation set results.\n",
        "  * Test the trained model with a [test set](https://developers.google.com/machine-learning/glossary/#test_set) to determine whether your trained model is [overfitting](https://developers.google.com/machine-learning/glossary/#overfitting).\n",
        "  * Detect and fix a common training problem."
      ]
    },
    {
      "cell_type": "markdown",
      "metadata": {
        "id": "gV82DJO3kWpk"
      },
      "source": [
        "## The dataset\n",
        "\n",
        "As in the previous exercise, this exercise uses the [California Housing dataset](https://developers.google.com/machine-learning/crash-course/california-housing-data-description) to predict the `median_house_value` at the city block level.  Like many \"famous\" datasets, the California Housing Dataset actually consists of two separate datasets, each living in separate .csv files:\n",
        "\n",
        "* The training set is in `california_housing_train.csv`.\n",
        "* The test set is in `california_housing_test.csv`.\n",
        "\n",
        "You'll create the validation set by dividing the downloaded training set into two parts:\n",
        "\n",
        "* a smaller training set  \n",
        "* a validation set"
      ]
    },
    {
      "cell_type": "markdown",
      "metadata": {
        "id": "S8gm6BpqRRuh"
      },
      "source": [
        "## Import relevant modules\n",
        "\n",
        "This first code cell imports the necessary modules and sets a few display options."
      ]
    },
    {
      "cell_type": "code",
      "metadata": {
        "id": "9D8GgUovHbG0",
        "cellView": "form"
      },
      "source": [
        "#@title Import modules\n",
        "import numpy as np\n",
        "import pandas as pd\n",
        "import tensorflow as tf\n",
        "from matplotlib import pyplot as plt\n",
        "\n",
        "pd.options.display.max_rows = 10\n",
        "pd.options.display.float_format = \"{:.1f}\".format"
      ],
      "execution_count": 2,
      "outputs": []
    },
    {
      "cell_type": "markdown",
      "metadata": {
        "id": "xjvrrClQeAJu"
      },
      "source": [
        "## Load the datasets from the internet\n",
        "\n",
        "The following code cell loads the separate .csv files and creates the following two pandas DataFrames:\n",
        "\n",
        "* `train_df`, which contains the training set.\n",
        "* `test_df`, which contains the test set.\n",
        "\n"
      ]
    },
    {
      "cell_type": "code",
      "metadata": {
        "id": "zUnTc_wfd_o3"
      },
      "source": [
        "train_df = pd.read_csv(\"https://download.mlcc.google.com/mledu-datasets/california_housing_train.csv\")\n",
        "test_df = pd.read_csv(\"https://download.mlcc.google.com/mledu-datasets/california_housing_test.csv\")"
      ],
      "execution_count": 3,
      "outputs": []
    },
    {
      "cell_type": "markdown",
      "metadata": {
        "id": "P_KBdj2M_yjM"
      },
      "source": [
        "## Scale the label values\n",
        "\n",
        "The following code cell scales the `median_house_value`. \n",
        "See the previous Colab exercise for details."
      ]
    },
    {
      "cell_type": "code",
      "metadata": {
        "id": "3hc7QQhaAFXD"
      },
      "source": [
        "scale_factor = 1000.0\n",
        "\n",
        "# Scale the training set's label.\n",
        "train_df[\"median_house_value\"] /= scale_factor \n",
        "\n",
        "# Scale the test set's label\n",
        "test_df[\"median_house_value\"] /= scale_factor"
      ],
      "execution_count": 4,
      "outputs": []
    },
    {
      "cell_type": "markdown",
      "metadata": {
        "id": "FhessIIV8VPc"
      },
      "source": [
        "## Load the functions that build and train a model\n",
        "\n",
        "The following code cell defines two functions:\n",
        "\n",
        "  * `build_model`, which defines the model's topography.\n",
        "  * `train_model`, which will ultimately train the model, outputting not only the loss value for the training set but also the loss value for the validation set. \n",
        "\n",
        "Since you don't need to understand model building code right now, we've hidden this code cell. As always, you must run hidden code cells."
      ]
    },
    {
      "cell_type": "code",
      "metadata": {
        "id": "bvonhK857msj",
        "colab": {
          "base_uri": "https://localhost:8080/"
        },
        "outputId": "c00a34d6-1c17-4ef7-d0ad-2f4844481493"
      },
      "source": [
        "#@title Define the functions that build and train a model\n",
        "def build_model(my_learning_rate):\n",
        "  \"\"\"Create and compile a simple linear regression model.\"\"\"\n",
        "  # Most simple tf.keras models are sequential.\n",
        "  model = tf.keras.models.Sequential()\n",
        "\n",
        "  # Add one linear layer to the model to yield a simple linear regressor.\n",
        "  model.add(tf.keras.layers.Dense(units=1, input_shape=(1,)))\n",
        "\n",
        "  # Compile the model topography into code that TensorFlow can efficiently\n",
        "  # execute. Configure training to minimize the model's mean squared error. \n",
        "  model.compile(optimizer=tf.keras.optimizers.RMSprop(lr=my_learning_rate),\n",
        "                loss=\"mean_squared_error\",\n",
        "                metrics=[tf.keras.metrics.RootMeanSquaredError()])\n",
        "\n",
        "  return model               \n",
        "\n",
        "\n",
        "def train_model(model, df, feature, label, my_epochs, \n",
        "                my_batch_size=None, my_validation_split=0.1):\n",
        "  \"\"\"Feed a dataset into the model in order to train it.\"\"\"\n",
        "\n",
        "  history = model.fit(x=df[feature],\n",
        "                      y=df[label],\n",
        "                      batch_size=my_batch_size,\n",
        "                      epochs=my_epochs,\n",
        "                      validation_split=my_validation_split)\n",
        "\n",
        "  # Gather the model's trained weight and bias.\n",
        "  trained_weight = model.get_weights()[0]\n",
        "  trained_bias = model.get_weights()[1]\n",
        "\n",
        "  # The list of epochs is stored separately from the \n",
        "  # rest of history.\n",
        "  epochs = history.epoch\n",
        "  \n",
        "  # Isolate the root mean squared error for each epoch.\n",
        "  hist = pd.DataFrame(history.history)\n",
        "  rmse = hist[\"root_mean_squared_error\"]\n",
        "\n",
        "  return epochs, rmse, history.history   \n",
        "\n",
        "print(\"Defined the build_model and train_model functions.\")"
      ],
      "execution_count": 5,
      "outputs": [
        {
          "output_type": "stream",
          "name": "stdout",
          "text": [
            "Defined the build_model and train_model functions.\n"
          ]
        }
      ]
    },
    {
      "cell_type": "markdown",
      "metadata": {
        "id": "8gRu4Ri0D8tH"
      },
      "source": [
        "## Define plotting functions\n",
        "\n",
        "The `plot_the_loss_curve` function plots loss vs. epochs for both the training set and the validation set."
      ]
    },
    {
      "cell_type": "code",
      "metadata": {
        "id": "QA7hsqPZDvVM",
        "cellView": "form",
        "colab": {
          "base_uri": "https://localhost:8080/"
        },
        "outputId": "fac347fb-43ae-4134-a6b5-24ee82fde06c"
      },
      "source": [
        "#@title Define the plotting function\n",
        "\n",
        "def plot_the_loss_curve(epochs, mae_training, mae_validation):\n",
        "  \"\"\"Plot a curve of loss vs. epoch.\"\"\"\n",
        "\n",
        "  plt.figure()\n",
        "  plt.xlabel(\"Epoch\")\n",
        "  plt.ylabel(\"Root Mean Squared Error\")\n",
        "\n",
        "  plt.plot(epochs[1:], mae_training[1:], label=\"Training Loss\")\n",
        "  plt.plot(epochs[1:], mae_validation[1:], label=\"Validation Loss\")\n",
        "  plt.legend()\n",
        "  \n",
        "  # We're not going to plot the first epoch, since the loss on the first epoch\n",
        "  # is often substantially greater than the loss for other epochs.\n",
        "  merged_mae_lists = mae_training[1:] + mae_validation[1:]\n",
        "  highest_loss = max(merged_mae_lists)\n",
        "  lowest_loss = min(merged_mae_lists)\n",
        "  delta = highest_loss - lowest_loss\n",
        "  print(delta)\n",
        "\n",
        "  top_of_y_axis = highest_loss + (delta * 0.05)\n",
        "  bottom_of_y_axis = lowest_loss - (delta * 0.05)\n",
        "   \n",
        "  plt.ylim([bottom_of_y_axis, top_of_y_axis])\n",
        "  plt.show()  \n",
        "\n",
        "print(\"Defined the plot_the_loss_curve function.\")"
      ],
      "execution_count": 6,
      "outputs": [
        {
          "output_type": "stream",
          "name": "stdout",
          "text": [
            "Defined the plot_the_loss_curve function.\n"
          ]
        }
      ]
    },
    {
      "cell_type": "markdown",
      "metadata": {
        "id": "jipBqEQXlsN8"
      },
      "source": [
        "## Task 1: Experiment with the validation split\n",
        "\n",
        "In the following code cell, you'll see a variable named `validation_split`, which we've initialized at 0.2.  The `validation_split` variable specifies the proportion of the original training set that will serve as the validation set. The original training set contains 17,000 examples. Therefore, a `validation_split` of 0.2 means that:\n",
        "\n",
        "* 17,000 * 0.2 ~= 3,400 examples will become the validation set.\n",
        "* 17,000 * 0.8 ~= 13,600 examples will become the new training set.\n",
        "\n",
        "The following code builds a model, trains it on the training set, and evaluates the built model on both:\n",
        "\n",
        "* The training set.\n",
        "* And the validation set.\n",
        "\n",
        "If the data in the training set is similar to the data in the validation set, then the two loss curves and the final loss values should be almost identical. However, the loss curves and final loss values are **not** almost identical. Hmm, that's odd.  \n",
        "\n",
        "Experiment with two or three different values of `validation_split`.  Do different values of `validation_split` fix the problem? \n"
      ]
    },
    {
      "cell_type": "code",
      "metadata": {
        "id": "knP23Taoa00a",
        "colab": {
          "base_uri": "https://localhost:8080/",
          "height": 1000
        },
        "outputId": "da79c5dd-64c8-4a48-ebb7-10083ae20322"
      },
      "source": [
        "# The following variables are the hyperparameters.\n",
        "learning_rate = 0.08\n",
        "epochs = 30\n",
        "batch_size = 100\n",
        "\n",
        "# Split the original training set into a reduced training set and a\n",
        "# validation set. \n",
        "validation_split = 0.2\n",
        "\n",
        "# Identify the feature and the label.\n",
        "my_feature = \"median_income\"    # the median income on a specific city block.\n",
        "my_label = \"median_house_value\" # the median house value on a specific city block.\n",
        "# That is, you're going to create a model that predicts house value based \n",
        "# solely on the neighborhood's median income.  \n",
        "\n",
        "# Invoke the functions to build and train the model.\n",
        "my_model = build_model(learning_rate)\n",
        "epochs, rmse, history = train_model(my_model, train_df, my_feature, \n",
        "                                    my_label, epochs, batch_size, \n",
        "                                    validation_split)\n",
        "\n",
        "plot_the_loss_curve(epochs, history[\"root_mean_squared_error\"], \n",
        "                    history[\"val_root_mean_squared_error\"])"
      ],
      "execution_count": 7,
      "outputs": [
        {
          "output_type": "stream",
          "name": "stdout",
          "text": [
            "Epoch 1/30\n"
          ]
        },
        {
          "output_type": "stream",
          "name": "stderr",
          "text": [
            "/usr/local/lib/python3.7/dist-packages/keras/optimizers/optimizer_v2/rmsprop.py:135: UserWarning: The `lr` argument is deprecated, use `learning_rate` instead.\n",
            "  super(RMSprop, self).__init__(name, **kwargs)\n"
          ]
        },
        {
          "output_type": "stream",
          "name": "stdout",
          "text": [
            "136/136 [==============================] - 1s 3ms/step - loss: 38052.6484 - root_mean_squared_error: 195.0709 - val_loss: 46086.5977 - val_root_mean_squared_error: 214.6779\n",
            "Epoch 2/30\n",
            "136/136 [==============================] - 0s 3ms/step - loss: 21620.4805 - root_mean_squared_error: 147.0390 - val_loss: 26653.8066 - val_root_mean_squared_error: 163.2599\n",
            "Epoch 3/30\n",
            "136/136 [==============================] - 1s 4ms/step - loss: 11441.1670 - root_mean_squared_error: 106.9634 - val_loss: 14428.0625 - val_root_mean_squared_error: 120.1169\n",
            "Epoch 4/30\n",
            "136/136 [==============================] - 1s 4ms/step - loss: 7039.6763 - root_mean_squared_error: 83.9028 - val_loss: 9447.2793 - val_root_mean_squared_error: 97.1971\n",
            "Epoch 5/30\n",
            "136/136 [==============================] - 1s 4ms/step - loss: 6515.0728 - root_mean_squared_error: 80.7160 - val_loss: 9241.0615 - val_root_mean_squared_error: 96.1304\n",
            "Epoch 6/30\n",
            "136/136 [==============================] - 0s 4ms/step - loss: 6513.6030 - root_mean_squared_error: 80.7069 - val_loss: 9397.0371 - val_root_mean_squared_error: 96.9383\n",
            "Epoch 7/30\n",
            "136/136 [==============================] - 1s 4ms/step - loss: 6513.7661 - root_mean_squared_error: 80.7079 - val_loss: 9326.1621 - val_root_mean_squared_error: 96.5721\n",
            "Epoch 8/30\n",
            "136/136 [==============================] - 1s 4ms/step - loss: 6514.4106 - root_mean_squared_error: 80.7119 - val_loss: 9222.3340 - val_root_mean_squared_error: 96.0330\n",
            "Epoch 9/30\n",
            "136/136 [==============================] - 0s 3ms/step - loss: 6513.7563 - root_mean_squared_error: 80.7078 - val_loss: 9390.9229 - val_root_mean_squared_error: 96.9068\n",
            "Epoch 10/30\n",
            "136/136 [==============================] - 1s 4ms/step - loss: 6512.2969 - root_mean_squared_error: 80.6988 - val_loss: 9468.7812 - val_root_mean_squared_error: 97.3077\n",
            "Epoch 11/30\n",
            "136/136 [==============================] - 0s 3ms/step - loss: 6513.4331 - root_mean_squared_error: 80.7058 - val_loss: 9238.8906 - val_root_mean_squared_error: 96.1191\n",
            "Epoch 12/30\n",
            "136/136 [==============================] - 0s 4ms/step - loss: 6511.8379 - root_mean_squared_error: 80.6960 - val_loss: 9137.9502 - val_root_mean_squared_error: 95.5926\n",
            "Epoch 13/30\n",
            "136/136 [==============================] - 1s 4ms/step - loss: 6514.6094 - root_mean_squared_error: 80.7131 - val_loss: 9284.9531 - val_root_mean_squared_error: 96.3585\n",
            "Epoch 14/30\n",
            "136/136 [==============================] - 1s 5ms/step - loss: 6513.7759 - root_mean_squared_error: 80.7080 - val_loss: 9380.4756 - val_root_mean_squared_error: 96.8529\n",
            "Epoch 15/30\n",
            "136/136 [==============================] - 1s 5ms/step - loss: 6513.5205 - root_mean_squared_error: 80.7064 - val_loss: 9270.6006 - val_root_mean_squared_error: 96.2840\n",
            "Epoch 16/30\n",
            "136/136 [==============================] - 1s 4ms/step - loss: 6513.4424 - root_mean_squared_error: 80.7059 - val_loss: 9327.5986 - val_root_mean_squared_error: 96.5795\n",
            "Epoch 17/30\n",
            "136/136 [==============================] - 0s 4ms/step - loss: 6511.6714 - root_mean_squared_error: 80.6949 - val_loss: 9088.4502 - val_root_mean_squared_error: 95.3334\n",
            "Epoch 18/30\n",
            "136/136 [==============================] - 1s 5ms/step - loss: 6514.4028 - root_mean_squared_error: 80.7119 - val_loss: 9315.5811 - val_root_mean_squared_error: 96.5173\n",
            "Epoch 19/30\n",
            "136/136 [==============================] - 1s 4ms/step - loss: 6513.8052 - root_mean_squared_error: 80.7081 - val_loss: 9361.9219 - val_root_mean_squared_error: 96.7570\n",
            "Epoch 20/30\n",
            "136/136 [==============================] - 1s 4ms/step - loss: 6512.9570 - root_mean_squared_error: 80.7029 - val_loss: 9317.7598 - val_root_mean_squared_error: 96.5285\n",
            "Epoch 21/30\n",
            "136/136 [==============================] - 0s 4ms/step - loss: 6513.1084 - root_mean_squared_error: 80.7038 - val_loss: 9344.7812 - val_root_mean_squared_error: 96.6684\n",
            "Epoch 22/30\n",
            "136/136 [==============================] - 1s 5ms/step - loss: 6514.0879 - root_mean_squared_error: 80.7099 - val_loss: 9216.3848 - val_root_mean_squared_error: 96.0020\n",
            "Epoch 23/30\n",
            "136/136 [==============================] - 1s 4ms/step - loss: 6511.4302 - root_mean_squared_error: 80.6934 - val_loss: 9089.8457 - val_root_mean_squared_error: 95.3407\n",
            "Epoch 24/30\n",
            "136/136 [==============================] - 1s 4ms/step - loss: 6514.6304 - root_mean_squared_error: 80.7133 - val_loss: 9324.6445 - val_root_mean_squared_error: 96.5642\n",
            "Epoch 25/30\n",
            "136/136 [==============================] - 1s 5ms/step - loss: 6513.2324 - root_mean_squared_error: 80.7046 - val_loss: 9267.0869 - val_root_mean_squared_error: 96.2657\n",
            "Epoch 26/30\n",
            "136/136 [==============================] - 1s 4ms/step - loss: 6513.2100 - root_mean_squared_error: 80.7045 - val_loss: 9324.8467 - val_root_mean_squared_error: 96.5652\n",
            "Epoch 27/30\n",
            "136/136 [==============================] - 1s 4ms/step - loss: 6514.1816 - root_mean_squared_error: 80.7105 - val_loss: 9262.1934 - val_root_mean_squared_error: 96.2403\n",
            "Epoch 28/30\n",
            "136/136 [==============================] - 0s 3ms/step - loss: 6512.8369 - root_mean_squared_error: 80.7021 - val_loss: 9112.2090 - val_root_mean_squared_error: 95.4579\n",
            "Epoch 29/30\n",
            "136/136 [==============================] - 1s 5ms/step - loss: 6512.5854 - root_mean_squared_error: 80.7006 - val_loss: 9147.7188 - val_root_mean_squared_error: 95.6437\n",
            "Epoch 30/30\n",
            "136/136 [==============================] - 1s 4ms/step - loss: 6510.1445 - root_mean_squared_error: 80.6855 - val_loss: 9486.6543 - val_root_mean_squared_error: 97.3995\n",
            "82.57447052001953\n"
          ]
        },
        {
          "output_type": "display_data",
          "data": {
            "text/plain": [
              "<Figure size 432x288 with 1 Axes>"
            ],
            "image/png": "[encoded data removed]"
          },
          "metadata": {
            "needs_background": "light"
          }
        }
      ]
    },
    {
      "cell_type": "markdown",
      "metadata": {
        "id": "TKa11JK4Pm3f"
      },
      "source": [
        "## Task 2: Determine **why** the loss curves differ\n",
        "\n",
        "No matter how you split the training set and the validation set, the loss curves differ significantly. Evidently, the data in the training set isn't similar enough to the data in the validation set. Counterintuitive? Yes, but this problem is actually pretty common in machine learning. \n",
        "\n",
        "Your task is to determine **why** the loss curves aren't highly similar. As with most issues in machine learning, the problem is rooted in the data itself. To solve this mystery of why the training set and validation set aren't almost identical, write a line or two of [pandas code](https://colab.research.google.com/github/google/eng-edu/blob/main/ml/cc/exercises/pandas_dataframe_ultraquick_tutorial.ipynb?utm_source=validation-colab&utm_medium=colab&utm_campaign=colab-external&utm_content=pandas_tf2-colab&hl=en) in the following code cell.  Here are a couple of hints:\n",
        "\n",
        "  * The previous code cell split the original training set into:\n",
        "    * a reduced training set (the original training set - the validation set)\n",
        "    * the validation set \n",
        "  * By default, the pandas [`head`](https://pandas.pydata.org/pandas-docs/stable/reference/api/pandas.DataFrame.head.html) method outputs the *first* 5 rows of the DataFrame. To see more of the training set, specify the `n` argument to `head` and assign a large positive integer to `n`."
      ]
    },
    {
      "cell_type": "code",
      "metadata": {
        "id": "VJQcAZkwJt_p"
      },
      "source": [
        "# Write some code in this code cell."
      ],
      "execution_count": 8,
      "outputs": []
    },
    {
      "cell_type": "code",
      "metadata": {
        "id": "EnNvkFwwK8WY",
        "colab": {
          "base_uri": "https://localhost:8080/",
          "height": 424
        },
        "outputId": "0f517e4a-e204-40ed-85bd-124b532208f4"
      },
      "source": [
        "#@title Double-click for a possible solution to Task 2.\n",
        "\n",
        "# Examine examples 0 through 4 and examples 995 through 999\n",
        "# of the training set\n",
        "train_df.head(n=1000)\n",
        "\n",
        "# The original training set is sorted by longitude. \n",
        "# Apparently, longitude influences the relationship of\n",
        "# total_rooms to median_house_value."
      ],
      "execution_count": 9,
      "outputs": [
        {
          "output_type": "execute_result",
          "data": {
            "text/plain": [
              "     longitude  latitude  housing_median_age  total_rooms  total_bedrooms  \\\n",
              "0       -114.3      34.2                15.0       5612.0          1283.0   \n",
              "1       -114.5      34.4                19.0       7650.0          1901.0   \n",
              "2       -114.6      33.7                17.0        720.0           174.0   \n",
              "3       -114.6      33.6                14.0       1501.0           337.0   \n",
              "4       -114.6      33.6                20.0       1454.0           326.0   \n",
              "..         ...       ...                 ...          ...             ...   \n",
              "995     -117.1      32.5                 8.0       6533.0          1217.0   \n",
              "996     -117.1      34.6                 6.0       5110.0          1044.0   \n",
              "997     -117.1      34.2                22.0       4397.0           931.0   \n",
              "998     -117.1      34.0                24.0       4144.0           826.0   \n",
              "999     -117.1      33.6                 6.0       1868.0           289.0   \n",
              "\n",
              "     population  households  median_income  median_house_value  \n",
              "0        1015.0       472.0            1.5                66.9  \n",
              "1        1129.0       463.0            1.8                80.1  \n",
              "2         333.0       117.0            1.7                85.7  \n",
              "3         515.0       226.0            3.2                73.4  \n",
              "4         624.0       262.0            1.9                65.5  \n",
              "..          ...         ...            ...                 ...  \n",
              "995      4797.0      1177.0            4.0               144.4  \n",
              "996      1938.0       724.0            3.2               112.8  \n",
              "997      1145.0       445.0            4.5               108.4  \n",
              "998      2127.0       772.0            2.5                96.0  \n",
              "999       750.0       247.0            4.4               307.6  \n",
              "\n",
              "[1000 rows x 9 columns]"
            ],
            "text/html": [
              "\n",
              "  <div id=\"df-c4d2b3f2-2b0f-4a83-932c-5abd7bed8a58\">\n",
              "    <div class=\"colab-df-container\">\n",
              "      <div>\n",
              "<style scoped>\n",
              "    .dataframe tbody tr th:only-of-type {\n",
              "        vertical-align: middle;\n",
              "    }\n",
              "\n",
              "    .dataframe tbody tr th {\n",
              "        vertical-align: top;\n",
              "    }\n",
              "\n",
              "    .dataframe thead th {\n",
              "        text-align: right;\n",
              "    }\n",
              "</style>\n",
              "<table border=\"1\" class=\"dataframe\">\n",
              "  <thead>\n",
              "    <tr style=\"text-align: right;\">\n",
              "      <th></th>\n",
              "      <th>longitude</th>\n",
              "      <th>latitude</th>\n",
              "      <th>housing_median_age</th>\n",
              "      <th>total_rooms</th>\n",
              "      <th>total_bedrooms</th>\n",
              "      <th>population</th>\n",
              "      <th>households</th>\n",
              "      <th>median_income</th>\n",
              "      <th>median_house_value</th>\n",
              "    </tr>\n",
              "  </thead>\n",
              "  <tbody>\n",
              "    <tr>\n",
              "      <th>0</th>\n",
              "      <td>-114.3</td>\n",
              "      <td>34.2</td>\n",
              "      <td>15.0</td>\n",
              "      <td>5612.0</td>\n",
              "      <td>1283.0</td>\n",
              "      <td>1015.0</td>\n",
              "      <td>472.0</td>\n",
              "      <td>1.5</td>\n",
              "      <td>66.9</td>\n",
              "    </tr>\n",
              "    <tr>\n",
              "      <th>1</th>\n",
              "      <td>-114.5</td>\n",
              "      <td>34.4</td>\n",
              "      <td>19.0</td>\n",
              "      <td>7650.0</td>\n",
              "      <td>1901.0</td>\n",
              "      <td>1129.0</td>\n",
              "      <td>463.0</td>\n",
              "      <td>1.8</td>\n",
              "      <td>80.1</td>\n",
              "    </tr>\n",
              "    <tr>\n",
              "      <th>2</th>\n",
              "      <td>-114.6</td>\n",
              "      <td>33.7</td>\n",
              "      <td>17.0</td>\n",
              "      <td>720.0</td>\n",
              "      <td>174.0</td>\n",
              "      <td>333.0</td>\n",
              "      <td>117.0</td>\n",
              "      <td>1.7</td>\n",
              "      <td>85.7</td>\n",
              "    </tr>\n",
              "    <tr>\n",
              "      <th>3</th>\n",
              "      <td>-114.6</td>\n",
              "      <td>33.6</td>\n",
              "      <td>14.0</td>\n",
              "      <td>1501.0</td>\n",
              "      <td>337.0</td>\n",
              "      <td>515.0</td>\n",
              "      <td>226.0</td>\n",
              "      <td>3.2</td>\n",
              "      <td>73.4</td>\n",
              "    </tr>\n",
              "    <tr>\n",
              "      <th>4</th>\n",
              "      <td>-114.6</td>\n",
              "      <td>33.6</td>\n",
              "      <td>20.0</td>\n",
              "      <td>1454.0</td>\n",
              "      <td>326.0</td>\n",
              "      <td>624.0</td>\n",
              "      <td>262.0</td>\n",
              "      <td>1.9</td>\n",
              "      <td>65.5</td>\n",
              "    </tr>\n",
              "    <tr>\n",
              "      <th>...</th>\n",
              "      <td>...</td>\n",
              "      <td>...</td>\n",
              "      <td>...</td>\n",
              "      <td>...</td>\n",
              "      <td>...</td>\n",
              "      <td>...</td>\n",
              "      <td>...</td>\n",
              "      <td>...</td>\n",
              "      <td>...</td>\n",
              "    </tr>\n",
              "    <tr>\n",
              "      <th>995</th>\n",
              "      <td>-117.1</td>\n",
              "      <td>32.5</td>\n",
              "      <td>8.0</td>\n",
              "      <td>6533.0</td>\n",
              "      <td>1217.0</td>\n",
              "      <td>4797.0</td>\n",
              "      <td>1177.0</td>\n",
              "      <td>4.0</td>\n",
              "      <td>144.4</td>\n",
              "    </tr>\n",
              "    <tr>\n",
              "      <th>996</th>\n",
              "      <td>-117.1</td>\n",
              "      <td>34.6</td>\n",
              "      <td>6.0</td>\n",
              "      <td>5110.0</td>\n",
              "      <td>1044.0</td>\n",
              "      <td>1938.0</td>\n",
              "      <td>724.0</td>\n",
              "      <td>3.2</td>\n",
              "      <td>112.8</td>\n",
              "    </tr>\n",
              "    <tr>\n",
              "      <th>997</th>\n",
              "      <td>-117.1</td>\n",
              "      <td>34.2</td>\n",
              "      <td>22.0</td>\n",
              "      <td>4397.0</td>\n",
              "      <td>931.0</td>\n",
              "      <td>1145.0</td>\n",
              "      <td>445.0</td>\n",
              "      <td>4.5</td>\n",
              "      <td>108.4</td>\n",
              "    </tr>\n",
              "    <tr>\n",
              "      <th>998</th>\n",
              "      <td>-117.1</td>\n",
              "      <td>34.0</td>\n",
              "      <td>24.0</td>\n",
              "      <td>4144.0</td>\n",
              "      <td>826.0</td>\n",
              "      <td>2127.0</td>\n",
              "      <td>772.0</td>\n",
              "      <td>2.5</td>\n",
              "      <td>96.0</td>\n",
              "    </tr>\n",
              "    <tr>\n",
              "      <th>999</th>\n",
              "      <td>-117.1</td>\n",
              "      <td>33.6</td>\n",
              "      <td>6.0</td>\n",
              "      <td>1868.0</td>\n",
              "      <td>289.0</td>\n",
              "      <td>750.0</td>\n",
              "      <td>247.0</td>\n",
              "      <td>4.4</td>\n",
              "      <td>307.6</td>\n",
              "    </tr>\n",
              "  </tbody>\n",
              "</table>\n",
              "<p>1000 rows × 9 columns</p>\n",
              "</div>\n",
              "      <button class=\"colab-df-convert\" onclick=\"convertToInteractive('df-c4d2b3f2-2b0f-4a83-932c-5abd7bed8a58')\"\n",
              "              title=\"Convert this dataframe to an interactive table.\"\n",
              "              style=\"display:none;\">\n",
              "        \n",
              "  <svg xmlns=\"http://www.w3.org/2000/svg\" height=\"24px\"viewBox=\"0 0 24 24\"\n",
              "       width=\"24px\">\n",
              "    <path d=\"M0 0h24v24H0V0z\" fill=\"none\"/>\n",
              "    <path d=\"M18.56 5.44l.94 2.06.94-2.06 2.06-.94-2.06-.94-.94-2.06-.94 2.06-2.06.94zm-11 1L8.5 8.5l.94-2.06 2.06-.94-2.06-.94L8.5 2.5l-.94 2.06-2.06.94zm10 10l.94 2.06.94-2.06 2.06-.94-2.06-.94-.94-2.06-.94 2.06-2.06.94z\"/><path d=\"M17.41 7.96l-1.37-1.37c-.4-.4-.92-.59-1.43-.59-.52 0-1.04.2-1.43.59L10.3 9.45l-7.72 7.72c-.78.78-.78 2.05 0 2.83L4 21.41c.39.39.9.59 1.41.59.51 0 1.02-.2 1.41-.59l7.78-7.78 2.81-2.81c.8-.78.8-2.07 0-2.86zM5.41 20L4 18.59l7.72-7.72 1.47 1.35L5.41 20z\"/>\n",
              "  </svg>\n",
              "      </button>\n",
              "      \n",
              "  <style>\n",
              "    .colab-df-container {\n",
              "      display:flex;\n",
              "      flex-wrap:wrap;\n",
              "      gap: 12px;\n",
              "    }\n",
              "\n",
              "    .colab-df-convert {\n",
              "      background-color: #E8F0FE;\n",
              "      border: none;\n",
              "      border-radius: 50%;\n",
              "      cursor: pointer;\n",
              "      display: none;\n",
              "      fill: #1967D2;\n",
              "      height: 32px;\n",
              "      padding: 0 0 0 0;\n",
              "      width: 32px;\n",
              "    }\n",
              "\n",
              "    .colab-df-convert:hover {\n",
              "      background-color: #E2EBFA;\n",
              "      box-shadow: 0px 1px 2px rgba(60, 64, 67, 0.3), 0px 1px 3px 1px rgba(60, 64, 67, 0.15);\n",
              "      fill: #174EA6;\n",
              "    }\n",
              "\n",
              "    [theme=dark] .colab-df-convert {\n",
              "      background-color: #3B4455;\n",
              "      fill: #D2E3FC;\n",
              "    }\n",
              "\n",
              "    [theme=dark] .colab-df-convert:hover {\n",
              "      background-color: #434B5C;\n",
              "      box-shadow: 0px 1px 3px 1px rgba(0, 0, 0, 0.15);\n",
              "      filter: drop-shadow(0px 1px 2px rgba(0, 0, 0, 0.3));\n",
              "      fill: #FFFFFF;\n",
              "    }\n",
              "  </style>\n",
              "\n",
              "      <script>\n",
              "        const buttonEl =\n",
              "          document.querySelector('#df-c4d2b3f2-2b0f-4a83-932c-5abd7bed8a58 button.colab-df-convert');\n",
              "        buttonEl.style.display =\n",
              "          google.colab.kernel.accessAllowed ? 'block' : 'none';\n",
              "\n",
              "        async function convertToInteractive(key) {\n",
              "          const element = document.querySelector('#df-c4d2b3f2-2b0f-4a83-932c-5abd7bed8a58');\n",
              "          const dataTable =\n",
              "            await google.colab.kernel.invokeFunction('convertToInteractive',\n",
              "                                                     [key], {});\n",
              "          if (!dataTable) return;\n",
              "\n",
              "          const docLinkHtml = 'Like what you see? Visit the ' +\n",
              "            '<a target=\"_blank\" href=https://colab.research.google.com/notebooks/data_table.ipynb>data table notebook</a>'\n",
              "            + ' to learn more about interactive tables.';\n",
              "          element.innerHTML = '';\n",
              "          dataTable['output_type'] = 'display_data';\n",
              "          await google.colab.output.renderOutput(dataTable, element);\n",
              "          const docLink = document.createElement('div');\n",
              "          docLink.innerHTML = docLinkHtml;\n",
              "          element.appendChild(docLink);\n",
              "        }\n",
              "      </script>\n",
              "    </div>\n",
              "  </div>\n",
              "  "
            ]
          },
          "metadata": {},
          "execution_count": 9
        }
      ]
    },
    {
      "cell_type": "markdown",
      "metadata": {
        "id": "rw4xI1ZEckI8"
      },
      "source": [
        "## Task 3. Fix the problem\n",
        "\n",
        "To fix the problem, shuffle the examples in the training set before splitting the examples into a training set and validation set. To do so, take the following steps:\n",
        "\n",
        "1. Shuffle the data in the training set by adding the following line anywhere before you call `train_model` (in the code cell associated with Task 1):\n",
        "\n",
        "```\n",
        "  shuffled_train_df = train_df.reindex(np.random.permutation(train_df.index))\n",
        "```                                    \n",
        "\n",
        "2. Pass `shuffled_train_df` (instead of `train_df`) as the second argument to `train_model` (in the code call associated with Task 1) so that the call becomes as follows:\n",
        "\n",
        "```\n",
        "  epochs, rmse, history = train_model(my_model, shuffled_train_df, my_feature, \n",
        "                                      my_label, epochs, batch_size, \n",
        "                                      validation_split)\n",
        "```"
      ]
    },
    {
      "cell_type": "code",
      "metadata": {
        "id": "ncODhpv0h-LG",
        "cellView": "form",
        "colab": {
          "base_uri": "https://localhost:8080/",
          "height": 1000
        },
        "outputId": "e3e8e3b8-69da-4a88-dff7-c45f07eff489"
      },
      "source": [
        "#@title Double-click to view the complete implementation.\n",
        "\n",
        "# The following variables are the hyperparameters.\n",
        "learning_rate = 0.08\n",
        "epochs = 70\n",
        "batch_size = 100\n",
        "\n",
        "# Split the original training set into a reduced training set and a\n",
        "# validation set. \n",
        "validation_split = 0.2\n",
        "\n",
        "# Identify the feature and the label.\n",
        "my_feature = \"median_income\"    # the median income on a specific city block.\n",
        "my_label = \"median_house_value\" # the median house value on a specific city block.\n",
        "# That is, you're going to create a model that predicts house value based \n",
        "# solely on the neighborhood's median income.  \n",
        "\n",
        "# Shuffle the examples.\n",
        "shuffled_train_df = train_df.reindex(np.random.permutation(train_df.index)) \n",
        "\n",
        "# Invoke the functions to build and train the model. Train on the shuffled\n",
        "# training set.\n",
        "my_model = build_model(learning_rate)\n",
        "epochs, rmse, history = train_model(my_model, shuffled_train_df, my_feature, \n",
        "                                    my_label, epochs, batch_size, \n",
        "                                    validation_split)\n",
        "\n",
        "plot_the_loss_curve(epochs, history[\"root_mean_squared_error\"], \n",
        "                    history[\"val_root_mean_squared_error\"])"
      ],
      "execution_count": 10,
      "outputs": [
        {
          "output_type": "stream",
          "name": "stdout",
          "text": [
            "Epoch 1/70\n"
          ]
        },
        {
          "output_type": "stream",
          "name": "stderr",
          "text": [
            "/usr/local/lib/python3.7/dist-packages/keras/optimizers/optimizer_v2/rmsprop.py:135: UserWarning: The `lr` argument is deprecated, use `learning_rate` instead.\n",
            "  super(RMSprop, self).__init__(name, **kwargs)\n"
          ]
        },
        {
          "output_type": "stream",
          "name": "stdout",
          "text": [
            "136/136 [==============================] - 2s 6ms/step - loss: 41612.1680 - root_mean_squared_error: 203.9906 - val_loss: 31742.2305 - val_root_mean_squared_error: 178.1635\n",
            "Epoch 2/70\n",
            "136/136 [==============================] - 0s 4ms/step - loss: 24147.6133 - root_mean_squared_error: 155.3950 - val_loss: 17537.0762 - val_root_mean_squared_error: 132.4276\n",
            "Epoch 3/70\n",
            "136/136 [==============================] - 0s 2ms/step - loss: 12882.3311 - root_mean_squared_error: 113.5004 - val_loss: 9474.4932 - val_root_mean_squared_error: 97.3370\n",
            "Epoch 4/70\n",
            "136/136 [==============================] - 0s 2ms/step - loss: 7773.7700 - root_mean_squared_error: 88.1690 - val_loss: 7147.8887 - val_root_mean_squared_error: 84.5452\n",
            "Epoch 5/70\n",
            "136/136 [==============================] - 0s 2ms/step - loss: 6994.2251 - root_mean_squared_error: 83.6315 - val_loss: 7111.7500 - val_root_mean_squared_error: 84.3312\n",
            "Epoch 6/70\n",
            "136/136 [==============================] - 0s 2ms/step - loss: 6991.2622 - root_mean_squared_error: 83.6138 - val_loss: 7109.3784 - val_root_mean_squared_error: 84.3171\n",
            "Epoch 7/70\n",
            "136/136 [==============================] - 0s 2ms/step - loss: 6991.6245 - root_mean_squared_error: 83.6159 - val_loss: 7108.9922 - val_root_mean_squared_error: 84.3148\n",
            "Epoch 8/70\n",
            "136/136 [==============================] - 0s 2ms/step - loss: 6989.4282 - root_mean_squared_error: 83.6028 - val_loss: 7109.1836 - val_root_mean_squared_error: 84.3160\n",
            "Epoch 9/70\n",
            "136/136 [==============================] - 0s 2ms/step - loss: 6989.9609 - root_mean_squared_error: 83.6060 - val_loss: 7109.2778 - val_root_mean_squared_error: 84.3165\n",
            "Epoch 10/70\n",
            "136/136 [==============================] - 0s 2ms/step - loss: 6989.4707 - root_mean_squared_error: 83.6031 - val_loss: 7117.5728 - val_root_mean_squared_error: 84.3657\n",
            "Epoch 11/70\n",
            "136/136 [==============================] - 0s 2ms/step - loss: 6990.4780 - root_mean_squared_error: 83.6091 - val_loss: 7113.3135 - val_root_mean_squared_error: 84.3405\n",
            "Epoch 12/70\n",
            "136/136 [==============================] - 0s 2ms/step - loss: 6991.2856 - root_mean_squared_error: 83.6139 - val_loss: 7112.5190 - val_root_mean_squared_error: 84.3358\n",
            "Epoch 13/70\n",
            "136/136 [==============================] - 0s 2ms/step - loss: 6991.0615 - root_mean_squared_error: 83.6126 - val_loss: 7109.1270 - val_root_mean_squared_error: 84.3156\n",
            "Epoch 14/70\n",
            "136/136 [==============================] - 0s 2ms/step - loss: 6991.4834 - root_mean_squared_error: 83.6151 - val_loss: 7109.8735 - val_root_mean_squared_error: 84.3201\n",
            "Epoch 15/70\n",
            "136/136 [==============================] - 0s 2ms/step - loss: 6990.6445 - root_mean_squared_error: 83.6101 - val_loss: 7109.4658 - val_root_mean_squared_error: 84.3176\n",
            "Epoch 16/70\n",
            "136/136 [==============================] - 0s 2ms/step - loss: 6991.5283 - root_mean_squared_error: 83.6154 - val_loss: 7109.7534 - val_root_mean_squared_error: 84.3194\n",
            "Epoch 17/70\n",
            "136/136 [==============================] - 0s 2ms/step - loss: 6990.8760 - root_mean_squared_error: 83.6115 - val_loss: 7109.3022 - val_root_mean_squared_error: 84.3167\n",
            "Epoch 18/70\n",
            "136/136 [==============================] - 0s 2ms/step - loss: 6989.5488 - root_mean_squared_error: 83.6035 - val_loss: 7109.4722 - val_root_mean_squared_error: 84.3177\n",
            "Epoch 19/70\n",
            "136/136 [==============================] - 0s 2ms/step - loss: 6990.5396 - root_mean_squared_error: 83.6094 - val_loss: 7109.5625 - val_root_mean_squared_error: 84.3182\n",
            "Epoch 20/70\n",
            "136/136 [==============================] - 0s 2ms/step - loss: 6990.1758 - root_mean_squared_error: 83.6073 - val_loss: 7110.2300 - val_root_mean_squared_error: 84.3222\n",
            "Epoch 21/70\n",
            "136/136 [==============================] - 0s 2ms/step - loss: 6989.8066 - root_mean_squared_error: 83.6051 - val_loss: 7109.5781 - val_root_mean_squared_error: 84.3183\n",
            "Epoch 22/70\n",
            "136/136 [==============================] - 0s 2ms/step - loss: 6991.1763 - root_mean_squared_error: 83.6133 - val_loss: 7112.0288 - val_root_mean_squared_error: 84.3328\n",
            "Epoch 23/70\n",
            "136/136 [==============================] - 0s 2ms/step - loss: 6990.0508 - root_mean_squared_error: 83.6065 - val_loss: 7109.6030 - val_root_mean_squared_error: 84.3185\n",
            "Epoch 24/70\n",
            "136/136 [==============================] - 0s 2ms/step - loss: 6990.9302 - root_mean_squared_error: 83.6118 - val_loss: 7110.1562 - val_root_mean_squared_error: 84.3217\n",
            "Epoch 25/70\n",
            "136/136 [==============================] - 0s 2ms/step - loss: 6990.7622 - root_mean_squared_error: 83.6108 - val_loss: 7110.1489 - val_root_mean_squared_error: 84.3217\n",
            "Epoch 26/70\n",
            "136/136 [==============================] - 0s 2ms/step - loss: 6988.8984 - root_mean_squared_error: 83.5996 - val_loss: 7113.5337 - val_root_mean_squared_error: 84.3418\n",
            "Epoch 27/70\n",
            "136/136 [==============================] - 0s 2ms/step - loss: 6991.3340 - root_mean_squared_error: 83.6142 - val_loss: 7110.1548 - val_root_mean_squared_error: 84.3217\n",
            "Epoch 28/70\n",
            "136/136 [==============================] - 0s 2ms/step - loss: 6990.3848 - root_mean_squared_error: 83.6085 - val_loss: 7111.2920 - val_root_mean_squared_error: 84.3285\n",
            "Epoch 29/70\n",
            "136/136 [==============================] - 0s 2ms/step - loss: 6990.9448 - root_mean_squared_error: 83.6119 - val_loss: 7110.6816 - val_root_mean_squared_error: 84.3249\n",
            "Epoch 30/70\n",
            "136/136 [==============================] - 0s 2ms/step - loss: 6990.7734 - root_mean_squared_error: 83.6108 - val_loss: 7109.5527 - val_root_mean_squared_error: 84.3182\n",
            "Epoch 31/70\n",
            "136/136 [==============================] - 0s 2ms/step - loss: 6991.0454 - root_mean_squared_error: 83.6125 - val_loss: 7109.4116 - val_root_mean_squared_error: 84.3173\n",
            "Epoch 32/70\n",
            "136/136 [==============================] - 0s 2ms/step - loss: 6990.1890 - root_mean_squared_error: 83.6073 - val_loss: 7110.8013 - val_root_mean_squared_error: 84.3256\n",
            "Epoch 33/70\n",
            "136/136 [==============================] - 0s 2ms/step - loss: 6991.3438 - root_mean_squared_error: 83.6143 - val_loss: 7110.1733 - val_root_mean_squared_error: 84.3218\n",
            "Epoch 34/70\n",
            "136/136 [==============================] - 0s 2ms/step - loss: 6991.0986 - root_mean_squared_error: 83.6128 - val_loss: 7109.9604 - val_root_mean_squared_error: 84.3206\n",
            "Epoch 35/70\n",
            "136/136 [==============================] - 0s 2ms/step - loss: 6990.1143 - root_mean_squared_error: 83.6069 - val_loss: 7109.9155 - val_root_mean_squared_error: 84.3203\n",
            "Epoch 36/70\n",
            "136/136 [==============================] - 0s 2ms/step - loss: 6989.0688 - root_mean_squared_error: 83.6007 - val_loss: 7110.0400 - val_root_mean_squared_error: 84.3211\n",
            "Epoch 37/70\n",
            "136/136 [==============================] - 0s 2ms/step - loss: 6988.8789 - root_mean_squared_error: 83.5995 - val_loss: 7118.6416 - val_root_mean_squared_error: 84.3720\n",
            "Epoch 38/70\n",
            "136/136 [==============================] - 0s 2ms/step - loss: 6991.5698 - root_mean_squared_error: 83.6156 - val_loss: 7111.6299 - val_root_mean_squared_error: 84.3305\n",
            "Epoch 39/70\n",
            "136/136 [==============================] - 0s 2ms/step - loss: 6990.9224 - root_mean_squared_error: 83.6117 - val_loss: 7109.4370 - val_root_mean_squared_error: 84.3175\n",
            "Epoch 40/70\n",
            "136/136 [==============================] - 0s 2ms/step - loss: 6990.8623 - root_mean_squared_error: 83.6114 - val_loss: 7109.3931 - val_root_mean_squared_error: 84.3172\n",
            "Epoch 41/70\n",
            "136/136 [==============================] - 0s 2ms/step - loss: 6989.8955 - root_mean_squared_error: 83.6056 - val_loss: 7110.7637 - val_root_mean_squared_error: 84.3253\n",
            "Epoch 42/70\n",
            "136/136 [==============================] - 0s 2ms/step - loss: 6991.3281 - root_mean_squared_error: 83.6142 - val_loss: 7109.4673 - val_root_mean_squared_error: 84.3177\n",
            "Epoch 43/70\n",
            "136/136 [==============================] - 0s 2ms/step - loss: 6990.1763 - root_mean_squared_error: 83.6073 - val_loss: 7111.8564 - val_root_mean_squared_error: 84.3318\n",
            "Epoch 44/70\n",
            "136/136 [==============================] - 0s 2ms/step - loss: 6991.5718 - root_mean_squared_error: 83.6156 - val_loss: 7109.4023 - val_root_mean_squared_error: 84.3173\n",
            "Epoch 45/70\n",
            "136/136 [==============================] - 0s 2ms/step - loss: 6991.3989 - root_mean_squared_error: 83.6146 - val_loss: 7109.8213 - val_root_mean_squared_error: 84.3198\n",
            "Epoch 46/70\n",
            "136/136 [==============================] - 0s 2ms/step - loss: 6990.9077 - root_mean_squared_error: 83.6116 - val_loss: 7109.4321 - val_root_mean_squared_error: 84.3175\n",
            "Epoch 47/70\n",
            "136/136 [==============================] - 0s 2ms/step - loss: 6991.1377 - root_mean_squared_error: 83.6130 - val_loss: 7109.6982 - val_root_mean_squared_error: 84.3190\n",
            "Epoch 48/70\n",
            "136/136 [==============================] - 0s 2ms/step - loss: 6991.2339 - root_mean_squared_error: 83.6136 - val_loss: 7109.9512 - val_root_mean_squared_error: 84.3205\n",
            "Epoch 49/70\n",
            "136/136 [==============================] - 0s 2ms/step - loss: 6990.6348 - root_mean_squared_error: 83.6100 - val_loss: 7109.4463 - val_root_mean_squared_error: 84.3175\n",
            "Epoch 50/70\n",
            "136/136 [==============================] - 0s 2ms/step - loss: 6990.9751 - root_mean_squared_error: 83.6121 - val_loss: 7109.4600 - val_root_mean_squared_error: 84.3176\n",
            "Epoch 51/70\n",
            "136/136 [==============================] - 0s 2ms/step - loss: 6990.8530 - root_mean_squared_error: 83.6113 - val_loss: 7109.3599 - val_root_mean_squared_error: 84.3170\n",
            "Epoch 52/70\n",
            "136/136 [==============================] - 0s 2ms/step - loss: 6990.8711 - root_mean_squared_error: 83.6114 - val_loss: 7111.1143 - val_root_mean_squared_error: 84.3274\n",
            "Epoch 53/70\n",
            "136/136 [==============================] - 0s 2ms/step - loss: 6991.4360 - root_mean_squared_error: 83.6148 - val_loss: 7109.3735 - val_root_mean_squared_error: 84.3171\n",
            "Epoch 54/70\n",
            "136/136 [==============================] - 0s 2ms/step - loss: 6990.6592 - root_mean_squared_error: 83.6102 - val_loss: 7110.3540 - val_root_mean_squared_error: 84.3229\n",
            "Epoch 55/70\n",
            "136/136 [==============================] - 0s 2ms/step - loss: 6990.6655 - root_mean_squared_error: 83.6102 - val_loss: 7109.4858 - val_root_mean_squared_error: 84.3178\n",
            "Epoch 56/70\n",
            "136/136 [==============================] - 0s 2ms/step - loss: 6991.5366 - root_mean_squared_error: 83.6154 - val_loss: 7109.2925 - val_root_mean_squared_error: 84.3166\n",
            "Epoch 57/70\n",
            "136/136 [==============================] - 0s 2ms/step - loss: 6989.8989 - root_mean_squared_error: 83.6056 - val_loss: 7109.2646 - val_root_mean_squared_error: 84.3165\n",
            "Epoch 58/70\n",
            "136/136 [==============================] - 0s 2ms/step - loss: 6986.2651 - root_mean_squared_error: 83.5839 - val_loss: 7111.2148 - val_root_mean_squared_error: 84.3280\n",
            "Epoch 59/70\n",
            "136/136 [==============================] - 0s 2ms/step - loss: 6990.8955 - root_mean_squared_error: 83.6116 - val_loss: 7109.7480 - val_root_mean_squared_error: 84.3193\n",
            "Epoch 60/70\n",
            "136/136 [==============================] - 0s 2ms/step - loss: 6990.9229 - root_mean_squared_error: 83.6117 - val_loss: 7110.9404 - val_root_mean_squared_error: 84.3264\n",
            "Epoch 61/70\n",
            "136/136 [==============================] - 0s 2ms/step - loss: 6990.5659 - root_mean_squared_error: 83.6096 - val_loss: 7109.4858 - val_root_mean_squared_error: 84.3178\n",
            "Epoch 62/70\n",
            "136/136 [==============================] - 0s 2ms/step - loss: 6991.1631 - root_mean_squared_error: 83.6132 - val_loss: 7109.6562 - val_root_mean_squared_error: 84.3188\n",
            "Epoch 63/70\n",
            "136/136 [==============================] - 0s 2ms/step - loss: 6990.6558 - root_mean_squared_error: 83.6101 - val_loss: 7109.5767 - val_root_mean_squared_error: 84.3183\n",
            "Epoch 64/70\n",
            "136/136 [==============================] - 0s 2ms/step - loss: 6990.3887 - root_mean_squared_error: 83.6085 - val_loss: 7110.9507 - val_root_mean_squared_error: 84.3265\n",
            "Epoch 65/70\n",
            "136/136 [==============================] - 0s 2ms/step - loss: 6990.5405 - root_mean_squared_error: 83.6095 - val_loss: 7110.5796 - val_root_mean_squared_error: 84.3242\n",
            "Epoch 66/70\n",
            "136/136 [==============================] - 0s 2ms/step - loss: 6990.6499 - root_mean_squared_error: 83.6101 - val_loss: 7112.8218 - val_root_mean_squared_error: 84.3375\n",
            "Epoch 67/70\n",
            "136/136 [==============================] - 0s 2ms/step - loss: 6990.4014 - root_mean_squared_error: 83.6086 - val_loss: 7109.5776 - val_root_mean_squared_error: 84.3183\n",
            "Epoch 68/70\n",
            "136/136 [==============================] - 0s 2ms/step - loss: 6990.8359 - root_mean_squared_error: 83.6112 - val_loss: 7110.9702 - val_root_mean_squared_error: 84.3266\n",
            "Epoch 69/70\n",
            "136/136 [==============================] - 0s 2ms/step - loss: 6991.4043 - root_mean_squared_error: 83.6146 - val_loss: 7109.9624 - val_root_mean_squared_error: 84.3206\n",
            "Epoch 70/70\n",
            "136/136 [==============================] - 0s 2ms/step - loss: 6989.9917 - root_mean_squared_error: 83.6062 - val_loss: 7110.3755 - val_root_mean_squared_error: 84.3230\n",
            "71.81114196777344\n"
          ]
        },
        {
          "output_type": "display_data",
          "data": {
            "text/plain": [
              "<Figure size 432x288 with 1 Axes>"
            ],
            "image/png": "[encoded data removed]"
          },
          "metadata": {
            "needs_background": "light"
          }
        }
      ]
    },
    {
      "cell_type": "markdown",
      "metadata": {
        "id": "tKN239_miW8C"
      },
      "source": [
        "Experiment with `validation_split` to answer the following questions:\n",
        "\n",
        "* With the training set shuffled, is the final loss for the training set closer to the final loss for the validation set?  \n",
        "* At what range of values of `validation_split` do the final loss values for the training set and validation set diverge meaningfully?  Why?"
      ]
    },
    {
      "cell_type": "code",
      "metadata": {
        "id": "-UAJ3Q86iz31"
      },
      "source": [
        "#@title Double-click for the answers to the questions\n",
        "\n",
        "# Yes, after shuffling the original training set, \n",
        "# the final loss for the training set and the \n",
        "# validation set become much closer.\n",
        "\n",
        "# If validation_split < 0.15,\n",
        "# the final loss values for the training set and\n",
        "# validation set diverge meaningfully.  Apparently,\n",
        "# the validation set no longer contains enough examples. "
      ],
      "execution_count": 11,
      "outputs": []
    },
    {
      "cell_type": "markdown",
      "metadata": {
        "id": "1PP-O8TOZOeo"
      },
      "source": [
        "## Task 4: Use the Test Dataset to Evaluate Your Model's Performance\n",
        "\n",
        "The test set usually acts as the ultimate judge of a model's quality. The test set can serve as an impartial judge because its examples haven't been used in training the model. Run the following code cell to evaluate the model with the test set:"
      ]
    },
    {
      "cell_type": "code",
      "metadata": {
        "id": "nd_Sw2cygOip",
        "colab": {
          "base_uri": "https://localhost:8080/"
        },
        "outputId": "8b7a8c30-87f3-4261-f84d-38bd94658b14"
      },
      "source": [
        "x_test = test_df[my_feature]\n",
        "y_test = test_df[my_label]\n",
        "\n",
        "results = my_model.evaluate(x_test, y_test, batch_size=batch_size)"
      ],
      "execution_count": 12,
      "outputs": [
        {
          "output_type": "stream",
          "name": "stdout",
          "text": [
            "30/30 [==============================] - 0s 1ms/step - loss: 7009.2969 - root_mean_squared_error: 83.7215\n"
          ]
        }
      ]
    },
    {
      "cell_type": "markdown",
      "metadata": {
        "id": "qoyQKvsjmV_A"
      },
      "source": [
        "Compare the root mean squared error of the model when evaluated on each of the three datasets:\n",
        "\n",
        "* training set: look for `root_mean_squared_error` in the final training epoch.\n",
        "* validation set: look for `val_root_mean_squared_error` in the final training epoch.\n",
        "* test set: run the preceding code cell and examine the `root_mean_squared_error`.\n",
        "\n",
        "Ideally, the root mean squared error of all three sets should be similar. Are they?"
      ]
    },
    {
      "cell_type": "code",
      "metadata": {
        "id": "FxXtp-aVdIgJ"
      },
      "source": [
        "#@title Double-click for an answer\n",
        "\n",
        "# In our experiments, yes, the rmse values \n",
        "# were similar enough. "
      ],
      "execution_count": 13,
      "outputs": []
    }
  ]
}